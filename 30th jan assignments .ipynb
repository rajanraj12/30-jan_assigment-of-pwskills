{
 "cells": [
  {
   "cell_type": "code",
   "execution_count": 1,
   "id": "6d7a7bf9-a4bb-4a83-b3bc-08a3235a6049",
   "metadata": {},
   "outputs": [],
   "source": [
    "#Ques-1 write a program to accept percentage from the user and display the grade according to the following criteria.\n",
    "#marks       grade\n",
    "#>90           A\n",
    "#>80and<=90    B\n",
    "#>=60and<=80   C\n",
    "#below 60      D"
   ]
  },
  {
   "cell_type": "code",
   "execution_count": 8,
   "id": "98f08f8b-aee9-4514-a3fd-baef0558978c",
   "metadata": {},
   "outputs": [
    {
     "name": "stdin",
     "output_type": "stream",
     "text": [
      "enter your marks 50\n"
     ]
    },
    {
     "name": "stdout",
     "output_type": "stream",
     "text": [
      "you will be a part of D batch\n"
     ]
    }
   ],
   "source": [
    "#ans-1\n",
    "marks=int(input(\"enter your marks\"))\n",
    "if marks >90:\n",
    "    print(\"you will be a part of A batch\")\n",
    "elif marks >80 and marks <=90:\n",
    "    print(\"you will be a part of B batch\")\n",
    "elif marks >=60 and marks <=80: \n",
    "    print(\"you will be a part of C batch\")\n",
    "else : \n",
    "    print(\"you will be a part of D batch\")"
   ]
  },
  {
   "cell_type": "code",
   "execution_count": 15,
   "id": "4b1036a3-a285-48ea-a999-26dc33f500bd",
   "metadata": {},
   "outputs": [
    {
     "name": "stdin",
     "output_type": "stream",
     "text": [
      "enter your cost 60000\n"
     ]
    },
    {
     "name": "stdout",
     "output_type": "stream",
     "text": [
      "you will charge 10% tax\n"
     ]
    }
   ],
   "source": [
    "#Ques-2\n",
    "cost=int(input(\"enter your cost\"))\n",
    "if cost > 100000:\n",
    "    print(\"you will charge 15% tax\")\n",
    "elif cost >50000 and cost <=100000:\n",
    "    print(\"you will charge 10% tax\")\n",
    "elif cost <=50000:\n",
    "    print(\"you will charge 5% tax\")\n",
    "else :\n",
    "    print(\"you will charge 0% tax\")"
   ]
  },
  {
   "cell_type": "code",
   "execution_count": 2,
   "id": "7307e563-4196-461b-a33c-0edf52d6ed32",
   "metadata": {},
   "outputs": [
    {
     "name": "stdin",
     "output_type": "stream",
     "text": [
      "enter city name delhi\n"
     ]
    },
    {
     "name": "stdout",
     "output_type": "stream",
     "text": [
      "monuments is red fort\n"
     ]
    }
   ],
   "source": [
    "#Ques-3\n",
    "city=str(input(\"enter city name\"))\n",
    "if city == 'delhi':\n",
    "    print(\"monuments is red fort\")\n",
    "elif city == \"agra\":\n",
    "    print(\"monuments is taj mahal\")\n",
    "elif city == \"jaipur\":\n",
    "    print(\"monuments is jal mahal\")\n",
    "else :\n",
    "    pass"
   ]
  },
  {
   "cell_type": "code",
   "execution_count": 1,
   "id": "de213bd7-add7-4d70-abc3-82570a990ee5",
   "metadata": {},
   "outputs": [
    {
     "name": "stdin",
     "output_type": "stream",
     "text": [
      "enter number= 98\n"
     ]
    },
    {
     "name": "stdout",
     "output_type": "stream",
     "text": [
      "number of times= 3\n"
     ]
    }
   ],
   "source": [
    "#Ques-4\n",
    "num=int(input(\"enter number=\"))\n",
    "count=0\n",
    "while num>10:\n",
    "        num=num/3;\n",
    "        count+=1\n",
    "print('number of times=',count)"
   ]
  },
  {
   "cell_type": "code",
   "execution_count": 1,
   "id": "dfc0f6a3-7b88-4419-b536-830c912cc97f",
   "metadata": {},
   "outputs": [
    {
     "name": "stdout",
     "output_type": "stream",
     "text": [
      "1\n",
      "2\n",
      "3\n",
      "4\n",
      "5\n"
     ]
    }
   ],
   "source": [
    "#Ques-5- why and when to use while loop in python give a detailed description with example.\n",
    "# Ans-5-Python while loop is used to run a block code until a certain condition is met. Here, A while loop evaluates the condition. If the condition evaluates to True , the code inside the while loop is executed.\n",
    "# EX-program to display numbers from 1 to 5\n",
    "\n",
    "# initialize the variable\n",
    "i = 1\n",
    "n = 5\n",
    "\n",
    "# while loop from i = 1 to 5\n",
    "while i <= n:\n",
    "    print(i)\n",
    "    i = i + 1"
   ]
  },
  {
   "cell_type": "code",
   "execution_count": 4,
   "id": "f51d6823-f6af-4059-8c1d-1cc10073860a",
   "metadata": {},
   "outputs": [
    {
     "name": "stdout",
     "output_type": "stream",
     "text": [
      "12345678910 \n",
      "123456789 \n",
      "12345678 \n",
      "1234567 \n",
      "123456 \n",
      "12345 \n",
      "1234 \n",
      "123 \n",
      "12 \n",
      "1 \n"
     ]
    }
   ],
   "source": [
    "# Ques-6-use nested while loop to print 3 different pattern.\n",
    "#pattern_1\n",
    "e=10\n",
    "while e>=1:\n",
    "    f=1\n",
    "    while f<=e:\n",
    "        print(f,end='')\n",
    "        f=f+1\n",
    "    print(\" \")\n",
    "    e=e-1"
   ]
  },
  {
   "cell_type": "code",
   "execution_count": 1,
   "id": "6ad7c127-05bd-49d5-a4bb-8989673d13be",
   "metadata": {},
   "outputs": [
    {
     "name": "stdout",
     "output_type": "stream",
     "text": [
      "1 \n",
      "12 \n",
      "123 \n",
      "1234 \n",
      "12345 \n"
     ]
    }
   ],
   "source": [
    "#pattern_2\n",
    "i=1\n",
    "while i<=5:\n",
    "    l=1\n",
    "    while (l<=i):\n",
    "        print(l,end='')\n",
    "        l=l+1\n",
    "    print(\" \")\n",
    "    i=i+1"
   ]
  },
  {
   "cell_type": "code",
   "execution_count": 1,
   "id": "265af8d6-44fd-477c-a9d8-ccf6d031c2e5",
   "metadata": {},
   "outputs": [
    {
     "name": "stdout",
     "output_type": "stream",
     "text": [
      "*1,2*1,2*1,2*1,2*1,2*1,2*1,2*1,2*1,2\n",
      "*1,2*1,2*1,2*1,2*1,2*1,2*1,2*1,2*1,2\n",
      "*1,2*1,2*1,2*1,2*1,2*1,2*1,2*1,2*1,2\n",
      "*1,2*1,2*1,2*1,2*1,2*1,2*1,2*1,2*1,2\n",
      "*1,2*1,2*1,2*1,2*1,2*1,2*1,2*1,2*1,2\n",
      "*1,2*1,2*1,2*1,2*1,2*1,2*1,2*1,2*1,2\n",
      "*1,2*1,2*1,2*1,2*1,2*1,2*1,2*1,2*1,2\n",
      "*1,2*1,2*1,2*1,2*1,2*1,2*1,2*1,2*1,2\n",
      "*1,2*1,2*1,2*1,2*1,2*1,2*1,2*1,2*1,2\n"
     ]
    }
   ],
   "source": [
    "#initialize variables \n",
    "i=1\n",
    "j=1\n",
    "#while loop\n",
    "while i<10:\n",
    "    #nested while\n",
    "    while j<10:\n",
    "        #printed star with 1,2 it\n",
    "        print(\"*\",end=\"1,2\")\n",
    "        #increment j by 1\n",
    "        j+=1\n",
    "    #print new line\n",
    "    print()\n",
    "    #reset value of j\n",
    "    j=1\n",
    "    #increment value of i by 1\n",
    "    i+=1"
   ]
  },
  {
   "cell_type": "code",
   "execution_count": 2,
   "id": "c0b8095b-d1a8-4888-998d-c2829645769c",
   "metadata": {},
   "outputs": [
    {
     "name": "stdout",
     "output_type": "stream",
     "text": [
      "10\n",
      "9\n",
      "8\n",
      "7\n",
      "6\n",
      "5\n",
      "4\n",
      "3\n",
      "2\n",
      "1\n",
      "0\n"
     ]
    }
   ],
   "source": [
    "#Ques_7- reverse a while loop to display the number from 10 to 1.\n",
    "#Ans-7\n",
    "num_1=10\n",
    "num_2=0\n",
    "while num_1>=num_2:\n",
    "    print(num_1)\n",
    "    num_1-=1"
   ]
  },
  {
   "cell_type": "code",
   "execution_count": null,
   "id": "5ac5b96c-3912-47ac-8131-572f9c0ccf11",
   "metadata": {},
   "outputs": [],
   "source": [
    "#Quse_8- reverse a while loop to display numbers from 10 to 1\n",
    "#Ans_8-\n",
    "TEN=1\n",
    "ONE=10\n",
    "while ONE>=TEN:\n",
    "    print(ONE)\n",
    "    ONE"-=1
   ]
  }
 ],
 "metadata": {
  "kernelspec": {
   "display_name": "Python 3 (ipykernel)",
   "language": "python",
   "name": "python3"
  },
  "language_info": {
   "codemirror_mode": {
    "name": "ipython",
    "version": 3
   },
   "file_extension": ".py",
   "mimetype": "text/x-python",
   "name": "python",
   "nbconvert_exporter": "python",
   "pygments_lexer": "ipython3",
   "version": "3.10.6"
  }
 },
 "nbformat": 4,
 "nbformat_minor": 5
}
